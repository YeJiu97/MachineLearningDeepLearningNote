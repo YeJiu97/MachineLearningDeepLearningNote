{
 "cells": [
  {
   "cell_type": "markdown",
   "id": "cb2a2242-7ebe-4595-9cf7-9af9a6c60dbc",
   "metadata": {},
   "source": [
    "## 2.1 Logic of OOP"
   ]
  },
  {
   "cell_type": "markdown",
   "id": "c5fe2690-02d1-43c2-8c32-c602d799ccf5",
   "metadata": {},
   "source": [
    "类允许我们生成对象的数据类型，将会包含：数据，成员，方法和实例等。"
   ]
  },
  {
   "cell_type": "code",
   "execution_count": 9,
   "id": "b6ea4905-7b35-4faf-a916-948457c945e0",
   "metadata": {},
   "outputs": [],
   "source": [
    "class Phone():\n",
    "    Brand = 'Apple'\n",
    "    Model = 'Iphone X'\n",
    "    Color = 'Black'\n",
    "    Hdd = '128 GB'\n",
    "    Ram = '3 GB'\n",
    "    Platform = '105 12.3'"
   ]
  },
  {
   "cell_type": "code",
   "execution_count": 10,
   "id": "6d578084-2971-4885-88cb-121e6f3f54ab",
   "metadata": {},
   "outputs": [],
   "source": [
    "MyPhone = Phone()  # 创建一个实例"
   ]
  },
  {
   "cell_type": "code",
   "execution_count": 11,
   "id": "3f3ee9d7-c59f-4324-b8e1-7b630ab1f8b1",
   "metadata": {},
   "outputs": [
    {
     "data": {
      "text/plain": [
       "__main__.Phone"
      ]
     },
     "execution_count": 11,
     "metadata": {},
     "output_type": "execute_result"
    }
   ],
   "source": [
    "type(MyPhone)  # 查看类型"
   ]
  },
  {
   "cell_type": "code",
   "execution_count": 12,
   "id": "26b11dbd-21f2-4780-b687-1237b7c6f051",
   "metadata": {},
   "outputs": [
    {
     "data": {
      "text/plain": [
       "'128 GB'"
      ]
     },
     "execution_count": 12,
     "metadata": {},
     "output_type": "execute_result"
    }
   ],
   "source": [
    "MyPhone.Hdd  # 对因的数据"
   ]
  },
  {
   "cell_type": "code",
   "execution_count": 13,
   "id": "706dfe57-da94-44ba-8460-08e07ef7c2d8",
   "metadata": {},
   "outputs": [
    {
     "data": {
      "text/plain": [
       "'Black'"
      ]
     },
     "execution_count": 13,
     "metadata": {},
     "output_type": "execute_result"
    }
   ],
   "source": [
    "MyPhone.Color"
   ]
  },
  {
   "cell_type": "code",
   "execution_count": 15,
   "id": "a2381fb3-6384-471c-b3de-96df4233c1e6",
   "metadata": {},
   "outputs": [
    {
     "data": {
      "text/plain": [
       "'Apple'"
      ]
     },
     "execution_count": 15,
     "metadata": {},
     "output_type": "execute_result"
    }
   ],
   "source": [
    "MyPhone.Brand"
   ]
  },
  {
   "cell_type": "code",
   "execution_count": 16,
   "id": "e16e5c3c-e87d-4218-9606-5ed726fa13c5",
   "metadata": {},
   "outputs": [
    {
     "data": {
      "text/plain": [
       "'3 GB'"
      ]
     },
     "execution_count": 16,
     "metadata": {},
     "output_type": "execute_result"
    }
   ],
   "source": [
    "MyPhone.Ram"
   ]
  },
  {
   "cell_type": "code",
   "execution_count": 17,
   "id": "a314c90c-cf18-402d-9ea3-052219d04fdf",
   "metadata": {},
   "outputs": [
    {
     "data": {
      "text/plain": [
       "'105 12.3'"
      ]
     },
     "execution_count": 17,
     "metadata": {},
     "output_type": "execute_result"
    }
   ],
   "source": [
    "MyPhone.Platform"
   ]
  },
  {
   "cell_type": "markdown",
   "id": "9f6f0f28-182b-4bd4-aa2a-7c7adf6189ea",
   "metadata": {},
   "source": [
    "## 2.2 Constructor"
   ]
  },
  {
   "cell_type": "code",
   "execution_count": 18,
   "id": "d3f220e0-e842-49f2-a265-806431616c51",
   "metadata": {},
   "outputs": [],
   "source": [
    "class Phone():\n",
    "    def __init__(self):\n",
    "        print(\"the function was called.\")"
   ]
  },
  {
   "cell_type": "code",
   "execution_count": 19,
   "id": "880b9c82-e691-4377-b966-f4ecae32b72e",
   "metadata": {},
   "outputs": [
    {
     "name": "stdout",
     "output_type": "stream",
     "text": [
      "the function was called.\n"
     ]
    }
   ],
   "source": [
    "MyPhone = Phone()"
   ]
  },
  {
   "cell_type": "code",
   "execution_count": 23,
   "id": "0fc4c224-e5f5-4623-841f-188b0200527d",
   "metadata": {},
   "outputs": [],
   "source": [
    "class Phone():\n",
    "    def __init__(self, Brand, Model, Color, Camera_MP, HDD, Ram, Platform):\n",
    "        self.Brand = Brand\n",
    "        self.Model = Model\n",
    "        self.Color = Color\n",
    "        self.Camera_MP = Camera_MP\n",
    "        self.HDD = HDD\n",
    "        self.Ram = Ram\n",
    "        self.Platform = Platform"
   ]
  },
  {
   "cell_type": "code",
   "execution_count": 24,
   "id": "e4b3e5a6-fcd7-4dc0-a2a0-107edcc167e6",
   "metadata": {},
   "outputs": [],
   "source": [
    "Phone_One = Phone('Huawei', 'Mate 20 Pro', 'Balck', '40 MP', '128 GB', '8GB', 'Android 9.9')"
   ]
  },
  {
   "cell_type": "code",
   "execution_count": 25,
   "id": "5d9804ac-0330-435c-b72f-e43ca1b633a0",
   "metadata": {},
   "outputs": [
    {
     "data": {
      "text/plain": [
       "'Huawei'"
      ]
     },
     "execution_count": 25,
     "metadata": {},
     "output_type": "execute_result"
    }
   ],
   "source": [
    "Phone_One.Brand"
   ]
  },
  {
   "cell_type": "code",
   "execution_count": 26,
   "id": "a0d65f52-04e6-45d2-b24c-3053053197a7",
   "metadata": {},
   "outputs": [
    {
     "data": {
      "text/plain": [
       "'Mate 20 Pro'"
      ]
     },
     "execution_count": 26,
     "metadata": {},
     "output_type": "execute_result"
    }
   ],
   "source": [
    "Phone_One.Model"
   ]
  },
  {
   "cell_type": "code",
   "execution_count": 27,
   "id": "77f736bd-3cc2-4623-a284-31575bfb0936",
   "metadata": {},
   "outputs": [
    {
     "data": {
      "text/plain": [
       "'Balck'"
      ]
     },
     "execution_count": 27,
     "metadata": {},
     "output_type": "execute_result"
    }
   ],
   "source": [
    "Phone_One.Color"
   ]
  },
  {
   "cell_type": "code",
   "execution_count": 28,
   "id": "39f22988-11ed-44fb-91db-852cd0d8b580",
   "metadata": {},
   "outputs": [
    {
     "data": {
      "text/plain": [
       "'40 MP'"
      ]
     },
     "execution_count": 28,
     "metadata": {},
     "output_type": "execute_result"
    }
   ],
   "source": [
    "Phone_One.Camera_MP"
   ]
  },
  {
   "cell_type": "code",
   "execution_count": 29,
   "id": "cd468fc5-cd81-4a32-a871-17e47e6c1796",
   "metadata": {},
   "outputs": [
    {
     "data": {
      "text/plain": [
       "'128 GB'"
      ]
     },
     "execution_count": 29,
     "metadata": {},
     "output_type": "execute_result"
    }
   ],
   "source": [
    "Phone_One.HDD"
   ]
  },
  {
   "cell_type": "code",
   "execution_count": 30,
   "id": "01344125-8b99-4699-b6cb-2a4e72e0c63a",
   "metadata": {},
   "outputs": [
    {
     "data": {
      "text/plain": [
       "'8GB'"
      ]
     },
     "execution_count": 30,
     "metadata": {},
     "output_type": "execute_result"
    }
   ],
   "source": [
    "Phone_One.Ram"
   ]
  },
  {
   "cell_type": "code",
   "execution_count": 31,
   "id": "3f7af54f-601e-48b6-8f3e-e740920d5c85",
   "metadata": {},
   "outputs": [
    {
     "data": {
      "text/plain": [
       "'Android 9.9'"
      ]
     },
     "execution_count": 31,
     "metadata": {},
     "output_type": "execute_result"
    }
   ],
   "source": [
    "Phone_One.Platform"
   ]
  },
  {
   "cell_type": "markdown",
   "id": "1fb3d4b1-43cf-4747-962a-cb4eeeb5f7bd",
   "metadata": {},
   "source": [
    "## 2.3 Method"
   ]
  },
  {
   "cell_type": "code",
   "execution_count": 34,
   "id": "2202f0ad-8176-4f0a-bcc9-be0ed24b04d9",
   "metadata": {},
   "outputs": [],
   "source": [
    "class Student():\n",
    "    def __init__(self, name, surname, grade, class_number, gender, birth_date):\n",
    "        self.name = name\n",
    "        self.surname = surname\n",
    "        self.grade = grade\n",
    "        self.class_number = class_number\n",
    "        self.gender = gender\n",
    "        self.birth_date = birth_date"
   ]
  },
  {
   "cell_type": "code",
   "execution_count": 35,
   "id": "b6c414d1-6eae-4d3c-8aed-794909635661",
   "metadata": {},
   "outputs": [],
   "source": [
    "Student_one = Student(\"John\", \"Smith\", \"89\", \"A01\", \"Male\", \"1997-02-03\")"
   ]
  },
  {
   "cell_type": "code",
   "execution_count": 37,
   "id": "ae5a3e1b-e6bf-40be-8560-3653e595a0cc",
   "metadata": {},
   "outputs": [
    {
     "data": {
      "text/plain": [
       "'John'"
      ]
     },
     "execution_count": 37,
     "metadata": {},
     "output_type": "execute_result"
    }
   ],
   "source": [
    "Student_one.name"
   ]
  },
  {
   "cell_type": "code",
   "execution_count": 38,
   "id": "83ae08e6-9630-45f1-9ded-2e3d738ee310",
   "metadata": {},
   "outputs": [
    {
     "data": {
      "text/plain": [
       "'Smith'"
      ]
     },
     "execution_count": 38,
     "metadata": {},
     "output_type": "execute_result"
    }
   ],
   "source": [
    "Student_one.surname"
   ]
  },
  {
   "cell_type": "code",
   "execution_count": 39,
   "id": "c8050ed5-53ee-4110-af9f-c0002913b493",
   "metadata": {},
   "outputs": [
    {
     "data": {
      "text/plain": [
       "'89'"
      ]
     },
     "execution_count": 39,
     "metadata": {},
     "output_type": "execute_result"
    }
   ],
   "source": [
    "Student_one.grade"
   ]
  },
  {
   "cell_type": "code",
   "execution_count": 40,
   "id": "7c8dca1c-ba18-4401-b58e-94997d410cb3",
   "metadata": {},
   "outputs": [
    {
     "data": {
      "text/plain": [
       "'A01'"
      ]
     },
     "execution_count": 40,
     "metadata": {},
     "output_type": "execute_result"
    }
   ],
   "source": [
    "Student_one.class_number"
   ]
  },
  {
   "cell_type": "code",
   "execution_count": 41,
   "id": "790d7281-5c85-4e82-ba4e-83d7dd9dce56",
   "metadata": {},
   "outputs": [
    {
     "data": {
      "text/plain": [
       "'Male'"
      ]
     },
     "execution_count": 41,
     "metadata": {},
     "output_type": "execute_result"
    }
   ],
   "source": [
    "Student_one.gender"
   ]
  },
  {
   "cell_type": "code",
   "execution_count": 42,
   "id": "8934227c-b2ba-4d01-b824-bb76b40c7f20",
   "metadata": {},
   "outputs": [
    {
     "data": {
      "text/plain": [
       "'1997-02-03'"
      ]
     },
     "execution_count": 42,
     "metadata": {},
     "output_type": "execute_result"
    }
   ],
   "source": [
    "Student_one.birth_date"
   ]
  },
  {
   "cell_type": "code",
   "execution_count": 47,
   "id": "75c958db-e2bb-4a8f-980d-8dcd4e5be3db",
   "metadata": {},
   "outputs": [],
   "source": [
    "class Student():\n",
    "    def __init__(self, name, surname, grade, class_number, gender, birth_date):\n",
    "        self.name = name\n",
    "        self.surname = surname\n",
    "        self.grade = grade\n",
    "        self.class_number = class_number\n",
    "        self.gender = gender\n",
    "        self.birth_date = birth_date\n",
    "    def showInformation(self):\n",
    "        print(f\"Student's name is {self.name}, surname is {self.surname}, he/she is {self.grade} years old, His birthday is {self.birth_date}\")"
   ]
  },
  {
   "cell_type": "code",
   "execution_count": 48,
   "id": "3b05b733-87ba-4f8f-9101-41dcaf094c0b",
   "metadata": {},
   "outputs": [],
   "source": [
    "Student_two = Student('Jobs', 'Smith', '99', 'A02', 'Male', '1999-01-01')"
   ]
  },
  {
   "cell_type": "code",
   "execution_count": 49,
   "id": "89573467-6c94-4e0d-8c0c-aebfa8936aba",
   "metadata": {},
   "outputs": [
    {
     "name": "stdout",
     "output_type": "stream",
     "text": [
      "Student's name is Jobs, surname is Smith, he/she is 99 years old, His birthday is 1999-01-01\n"
     ]
    }
   ],
   "source": [
    "Student_two.showInformation()"
   ]
  },
  {
   "cell_type": "markdown",
   "id": "c80641ce-2e94-4dd9-92f9-2cdbbbe2a587",
   "metadata": {},
   "source": [
    "## 2.4 Inheritance"
   ]
  },
  {
   "cell_type": "code",
   "execution_count": 55,
   "id": "26424190-1d41-4004-a8fc-59bf27b7a63e",
   "metadata": {},
   "outputs": [],
   "source": [
    "class People():\n",
    "    def __init__(self, name, age, gender):\n",
    "        self.name = name\n",
    "        self.age = age\n",
    "        self.gender = gender"
   ]
  },
  {
   "cell_type": "code",
   "execution_count": 72,
   "id": "30fcc128-f168-43fb-a70b-b1e5a627324a",
   "metadata": {},
   "outputs": [],
   "source": [
    "class Student(People):\n",
    "    def __init__(self, name, age, gender, s_Id, s_class, s_grade):\n",
    "        People.__init__(self, name, age, gender)\n",
    "        self.s_Id = s_Id\n",
    "        self.s_class = s_class\n",
    "        self.s_grade = s_grade\n",
    "    def showInformation(self):\n",
    "        print(\"Student's name is: \", self.name,\n",
    "             \"\\nStudent's age is: \", self.age,\n",
    "             \"\\nStudent's gender is: \", self.gender,\n",
    "             \"\\nStudent's s_Id is:\", self.s_Id,\n",
    "             \"\\nStudent's s_class is:\", self.s_class,\n",
    "             \"\\nStidemt's s_grade is:\", self.s_grade)"
   ]
  },
  {
   "cell_type": "code",
   "execution_count": 73,
   "id": "0322d040-f551-4463-965c-183648d00f93",
   "metadata": {},
   "outputs": [],
   "source": [
    "Student_One = Student(\"John\", 15, \"Male\", 10100, \"A01\", 97)"
   ]
  },
  {
   "cell_type": "code",
   "execution_count": 74,
   "id": "e2f54616-0804-40c6-9875-e821d5503237",
   "metadata": {},
   "outputs": [
    {
     "name": "stdout",
     "output_type": "stream",
     "text": [
      "Student's name is:  John \n",
      "Student's age is:  15 \n",
      "Student's gender is:  Male \n",
      "Student's s_Id is: 10100 \n",
      "Student's s_class is: A01 \n",
      "Stidemt's s_grade is: 97\n"
     ]
    }
   ],
   "source": [
    "Student_One.showInformation()"
   ]
  },
  {
   "cell_type": "markdown",
   "id": "1619e595-d841-470b-834d-5df42908191a",
   "metadata": {},
   "source": [
    "## 2.5 Overriding and Overloading"
   ]
  },
  {
   "cell_type": "markdown",
   "id": "e8b01843-b05e-4a96-be9d-230c6004287e",
   "metadata": {},
   "source": [
    "重写："
   ]
  },
  {
   "cell_type": "code",
   "execution_count": 75,
   "id": "74f842bf-1cc5-46c4-babb-4c6c7bbb6c43",
   "metadata": {},
   "outputs": [],
   "source": [
    "class Parent():\n",
    "    def sayHello(self):\n",
    "        print(\"Hello, it is parent class\")\n",
    "\n",
    "class Child(Parent):\n",
    "    def sayHello(self):\n",
    "        print(\"Hello, it is child class\")"
   ]
  },
  {
   "cell_type": "code",
   "execution_count": 77,
   "id": "bc6f40d3-11e6-4e93-9daf-80438bd2782d",
   "metadata": {},
   "outputs": [],
   "source": [
    "c = Child()"
   ]
  },
  {
   "cell_type": "code",
   "execution_count": 78,
   "id": "08268ae5-cd4d-4fc0-86ba-ba4b36e98d08",
   "metadata": {},
   "outputs": [
    {
     "name": "stdout",
     "output_type": "stream",
     "text": [
      "Hello, it is child class\n"
     ]
    }
   ],
   "source": [
    "c.sayHello()"
   ]
  },
  {
   "cell_type": "code",
   "execution_count": 79,
   "id": "6fdd30d1-21b4-4158-bf66-7d0a7c775f51",
   "metadata": {},
   "outputs": [],
   "source": [
    "p = Parent()"
   ]
  },
  {
   "cell_type": "code",
   "execution_count": 80,
   "id": "9dd9e152-657e-49bc-b48c-c49dd8322304",
   "metadata": {},
   "outputs": [
    {
     "name": "stdout",
     "output_type": "stream",
     "text": [
      "Hello, it is parent class\n"
     ]
    }
   ],
   "source": [
    "p.sayHello()"
   ]
  },
  {
   "cell_type": "code",
   "execution_count": 82,
   "id": "819b980b-c7e1-4298-9341-a08bce9df9e2",
   "metadata": {},
   "outputs": [
    {
     "name": "stdout",
     "output_type": "stream",
     "text": [
      "Hello, it is parent class\n"
     ]
    }
   ],
   "source": [
    "super(Child, c).sayHello()  # 使用super()可以调用父类方法中的一个方法"
   ]
  }
 ],
 "metadata": {
  "kernelspec": {
   "display_name": "Python 3 (ipykernel)",
   "language": "python",
   "name": "python3"
  },
  "language_info": {
   "codemirror_mode": {
    "name": "ipython",
    "version": 3
   },
   "file_extension": ".py",
   "mimetype": "text/x-python",
   "name": "python",
   "nbconvert_exporter": "python",
   "pygments_lexer": "ipython3",
   "version": "3.10.4"
  }
 },
 "nbformat": 4,
 "nbformat_minor": 5
}
