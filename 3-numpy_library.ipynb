{
 "cells": [
  {
   "cell_type": "markdown",
   "id": "fa2f0597-44ef-4c61-a5c4-0f100afa6b71",
   "metadata": {},
   "source": [
    "## 3.1 What is Numpy"
   ]
  },
  {
   "cell_type": "markdown",
   "id": "834e7459-0a97-4cae-a74b-b340d2454a88",
   "metadata": {},
   "source": [
    "Numpy是一个包含多维数组的数学库：\n",
    "\n",
    "安装Numpy：\n",
    "```\n",
    "pip3 install numpy\n",
    "```"
   ]
  },
  {
   "cell_type": "code",
   "execution_count": 1,
   "id": "a42d9fb7-039a-45c5-81e6-877e8978b7fc",
   "metadata": {},
   "outputs": [],
   "source": [
    "import numpy as np"
   ]
  },
  {
   "cell_type": "code",
   "execution_count": 5,
   "id": "a826ee84-45ea-41dc-992c-8305c48ed909",
   "metadata": {},
   "outputs": [],
   "source": [
    "N_Array = np.array([[1, 2, 3], [4, 5, 6], [7, 8, 9]])"
   ]
  },
  {
   "cell_type": "code",
   "execution_count": 6,
   "id": "8cc1fdc6-8b12-4166-8a89-bb3f8c2f32e8",
   "metadata": {},
   "outputs": [
    {
     "data": {
      "text/plain": [
       "array([[1, 2, 3],\n",
       "       [4, 5, 6],\n",
       "       [7, 8, 9]])"
      ]
     },
     "execution_count": 6,
     "metadata": {},
     "output_type": "execute_result"
    }
   ],
   "source": [
    "N_Array"
   ]
  },
  {
   "cell_type": "code",
   "execution_count": 7,
   "id": "6a467895-7bd4-49cd-8762-710e7954201e",
   "metadata": {},
   "outputs": [
    {
     "data": {
      "text/plain": [
       "numpy.ndarray"
      ]
     },
     "execution_count": 7,
     "metadata": {},
     "output_type": "execute_result"
    }
   ],
   "source": [
    "type(N_Array)"
   ]
  },
  {
   "cell_type": "code",
   "execution_count": 8,
   "id": "b793c529-d557-41c2-ab7f-73890e9af1a3",
   "metadata": {},
   "outputs": [
    {
     "data": {
      "text/plain": [
       "5"
      ]
     },
     "execution_count": 8,
     "metadata": {},
     "output_type": "execute_result"
    }
   ],
   "source": [
    "N_Array[1][1]"
   ]
  },
  {
   "cell_type": "code",
   "execution_count": 10,
   "id": "6a5ff184-53fe-4091-aed2-3c5574ad320a",
   "metadata": {},
   "outputs": [
    {
     "data": {
      "text/plain": [
       "1"
      ]
     },
     "execution_count": 10,
     "metadata": {},
     "output_type": "execute_result"
    }
   ],
   "source": [
    "N_Array[0][0]"
   ]
  },
  {
   "cell_type": "code",
   "execution_count": 12,
   "id": "a31f6674-dd73-4a78-8f83-cae67d5eb4c1",
   "metadata": {},
   "outputs": [
    {
     "name": "stdout",
     "output_type": "stream",
     "text": [
      "1\n",
      "2\n",
      "3\n",
      "4\n",
      "5\n",
      "6\n",
      "7\n",
      "8\n",
      "9\n"
     ]
    }
   ],
   "source": [
    "for nums in N_Array:\n",
    "    for num in nums:\n",
    "        print(num)"
   ]
  },
  {
   "cell_type": "markdown",
   "id": "8daa64f1-ab17-4c6b-a3da-5df1a9419722",
   "metadata": {},
   "source": [
    "## 3.2 Array and Features"
   ]
  },
  {
   "cell_type": "code",
   "execution_count": 1,
   "id": "7b679449-81be-4264-8b05-4e0d497abed0",
   "metadata": {},
   "outputs": [],
   "source": [
    "import numpy as np"
   ]
  },
  {
   "cell_type": "code",
   "execution_count": 3,
   "id": "8a349638-bf1a-4b07-94ef-139d6e18c1fb",
   "metadata": {},
   "outputs": [],
   "source": [
    "Integers = np.array([[1, 2, 3, 4], [5, 6, 7, 8]])"
   ]
  },
  {
   "cell_type": "code",
   "execution_count": 5,
   "id": "e6eed9f5-a14f-4e2d-8686-fab6368fcda9",
   "metadata": {},
   "outputs": [
    {
     "data": {
      "text/plain": [
       "array([[1, 2, 3, 4],\n",
       "       [5, 6, 7, 8]])"
      ]
     },
     "execution_count": 5,
     "metadata": {},
     "output_type": "execute_result"
    }
   ],
   "source": [
    "Integers"
   ]
  },
  {
   "cell_type": "code",
   "execution_count": 6,
   "id": "6d06f315-bd2d-4b23-a933-256891445d53",
   "metadata": {},
   "outputs": [],
   "source": [
    "Floats = np.array([0.0, 1.0, 2.20, 3.03])"
   ]
  },
  {
   "cell_type": "code",
   "execution_count": 7,
   "id": "27e3c6ad-0272-4200-a99c-00dc3fa8603c",
   "metadata": {},
   "outputs": [
    {
     "data": {
      "text/plain": [
       "array([0.  , 1.  , 2.2 , 3.03])"
      ]
     },
     "execution_count": 7,
     "metadata": {},
     "output_type": "execute_result"
    }
   ],
   "source": [
    "Floats"
   ]
  },
  {
   "cell_type": "markdown",
   "id": "c8bf0145-67f6-486c-b15b-69127e36f708",
   "metadata": {},
   "source": [
    "可以发现右边的结尾的0被去除了。"
   ]
  },
  {
   "cell_type": "code",
   "execution_count": 8,
   "id": "1d0fbd30-d1f2-4f98-9571-14556d10b257",
   "metadata": {},
   "outputs": [
    {
     "data": {
      "text/plain": [
       "2"
      ]
     },
     "execution_count": 8,
     "metadata": {},
     "output_type": "execute_result"
    }
   ],
   "source": [
    "Integers.ndim"
   ]
  },
  {
   "cell_type": "code",
   "execution_count": 9,
   "id": "06d5519b-3b36-4862-9302-6effbe321b06",
   "metadata": {},
   "outputs": [
    {
     "data": {
      "text/plain": [
       "(2, 4)"
      ]
     },
     "execution_count": 9,
     "metadata": {},
     "output_type": "execute_result"
    }
   ],
   "source": [
    "Integers.shape"
   ]
  },
  {
   "cell_type": "markdown",
   "id": "6d07e0ab-0853-4cf3-9c9c-899055c776c7",
   "metadata": {},
   "source": [
    "2行，4列。"
   ]
  },
  {
   "cell_type": "code",
   "execution_count": 11,
   "id": "f2d1e0e7-8d7a-4ef9-9021-f6cb3bcb5513",
   "metadata": {},
   "outputs": [
    {
     "data": {
      "text/plain": [
       "(4,)"
      ]
     },
     "execution_count": 11,
     "metadata": {},
     "output_type": "execute_result"
    }
   ],
   "source": [
    "Floats.shape"
   ]
  },
  {
   "cell_type": "markdown",
   "id": "e302da44-9a40-4087-b3a9-e19b49a6d558",
   "metadata": {},
   "source": [
    "一维数组，包含4个元素。"
   ]
  },
  {
   "cell_type": "code",
   "execution_count": 12,
   "id": "00aabd19-bc94-4916-8e95-49ee61c447e2",
   "metadata": {},
   "outputs": [
    {
     "data": {
      "text/plain": [
       "array([0., 0., 0., 0., 0., 0., 0., 0., 0., 0.])"
      ]
     },
     "execution_count": 12,
     "metadata": {},
     "output_type": "execute_result"
    }
   ],
   "source": [
    "np.zeros(10)"
   ]
  },
  {
   "cell_type": "code",
   "execution_count": 13,
   "id": "0e1ae808-8e9d-4c83-986b-0450930d6421",
   "metadata": {},
   "outputs": [
    {
     "data": {
      "text/plain": [
       "array([1., 1., 1., 1., 1.])"
      ]
     },
     "execution_count": 13,
     "metadata": {},
     "output_type": "execute_result"
    }
   ],
   "source": [
    "np.ones(5)"
   ]
  },
  {
   "cell_type": "code",
   "execution_count": 16,
   "id": "e539f206-bd3e-4189-a96f-9197787420b3",
   "metadata": {},
   "outputs": [
    {
     "data": {
      "text/plain": [
       "array([[0, 0, 0, 0],\n",
       "       [0, 0, 0, 0],\n",
       "       [0, 0, 0, 0]])"
      ]
     },
     "execution_count": 16,
     "metadata": {},
     "output_type": "execute_result"
    }
   ],
   "source": [
    "np.zeros((3, 4), dtype = int)"
   ]
  },
  {
   "cell_type": "code",
   "execution_count": 17,
   "id": "e5dda088-cc1e-4f8e-b925-79a163dc3cd5",
   "metadata": {},
   "outputs": [
    {
     "data": {
      "text/plain": [
       "array([[0., 0., 0., 0.],\n",
       "       [0., 0., 0., 0.],\n",
       "       [0., 0., 0., 0.]])"
      ]
     },
     "execution_count": 17,
     "metadata": {},
     "output_type": "execute_result"
    }
   ],
   "source": [
    "np.zeros((3, 4), dtype = float)"
   ]
  },
  {
   "cell_type": "code",
   "execution_count": 18,
   "id": "40331260-2e28-4659-a8c3-752cd4fa4beb",
   "metadata": {},
   "outputs": [
    {
     "data": {
      "text/plain": [
       "array([[13, 13, 13, 13],\n",
       "       [13, 13, 13, 13],\n",
       "       [13, 13, 13, 13],\n",
       "       [13, 13, 13, 13]])"
      ]
     },
     "execution_count": 18,
     "metadata": {},
     "output_type": "execute_result"
    }
   ],
   "source": [
    "np.full((4, 4), 13)"
   ]
  },
  {
   "cell_type": "code",
   "execution_count": 20,
   "id": "1a69300d-33b8-4d6f-9329-68a000de3788",
   "metadata": {},
   "outputs": [
    {
     "data": {
      "text/plain": [
       "array([0, 1, 2, 3, 4, 5, 6, 7, 8, 9])"
      ]
     },
     "execution_count": 20,
     "metadata": {},
     "output_type": "execute_result"
    }
   ],
   "source": [
    "np.arange(10)"
   ]
  },
  {
   "cell_type": "code",
   "execution_count": 21,
   "id": "832f154f-41cd-452f-9381-a2cc20b11d79",
   "metadata": {},
   "outputs": [
    {
     "data": {
      "text/plain": [
       "array([3, 4, 5, 6, 7])"
      ]
     },
     "execution_count": 21,
     "metadata": {},
     "output_type": "execute_result"
    }
   ],
   "source": [
    "np.arange(3, 8)"
   ]
  },
  {
   "cell_type": "code",
   "execution_count": 22,
   "id": "1be55019-2990-4be6-87d2-7ab8e41f88ef",
   "metadata": {},
   "outputs": [
    {
     "data": {
      "text/plain": [
       "array([ 0.        ,  0.20408163,  0.40816327,  0.6122449 ,  0.81632653,\n",
       "        1.02040816,  1.2244898 ,  1.42857143,  1.63265306,  1.83673469,\n",
       "        2.04081633,  2.24489796,  2.44897959,  2.65306122,  2.85714286,\n",
       "        3.06122449,  3.26530612,  3.46938776,  3.67346939,  3.87755102,\n",
       "        4.08163265,  4.28571429,  4.48979592,  4.69387755,  4.89795918,\n",
       "        5.10204082,  5.30612245,  5.51020408,  5.71428571,  5.91836735,\n",
       "        6.12244898,  6.32653061,  6.53061224,  6.73469388,  6.93877551,\n",
       "        7.14285714,  7.34693878,  7.55102041,  7.75510204,  7.95918367,\n",
       "        8.16326531,  8.36734694,  8.57142857,  8.7755102 ,  8.97959184,\n",
       "        9.18367347,  9.3877551 ,  9.59183673,  9.79591837, 10.        ])"
      ]
     },
     "execution_count": 22,
     "metadata": {},
     "output_type": "execute_result"
    }
   ],
   "source": [
    "np.linspace(0, 10)"
   ]
  },
  {
   "cell_type": "code",
   "execution_count": 23,
   "id": "1cce78e8-4fc3-449c-af4e-c562cd7595ce",
   "metadata": {},
   "outputs": [
    {
     "data": {
      "text/plain": [
       "array([ 0.        ,  1.11111111,  2.22222222,  3.33333333,  4.44444444,\n",
       "        5.55555556,  6.66666667,  7.77777778,  8.88888889, 10.        ])"
      ]
     },
     "execution_count": 23,
     "metadata": {},
     "output_type": "execute_result"
    }
   ],
   "source": [
    "np.linspace(0, 10, num = 10)"
   ]
  },
  {
   "cell_type": "code",
   "execution_count": 24,
   "id": "57845d15-9385-413d-bd95-25343cd7acf1",
   "metadata": {},
   "outputs": [
    {
     "data": {
      "text/plain": [
       "array([[ 1,  2,  3,  4,  5,  6],\n",
       "       [ 7,  8,  9, 10, 11, 12],\n",
       "       [13, 14, 15, 16, 17, 18],\n",
       "       [19, 20, 21, 22, 23, 24],\n",
       "       [25, 26, 27, 28, 29, 30]])"
      ]
     },
     "execution_count": 24,
     "metadata": {},
     "output_type": "execute_result"
    }
   ],
   "source": [
    "np.arange(1, 31).reshape(5, 6)"
   ]
  },
  {
   "cell_type": "code",
   "execution_count": 25,
   "id": "e15b9555-bc2d-46e2-8f92-08e8c4384a5d",
   "metadata": {},
   "outputs": [
    {
     "data": {
      "text/plain": [
       "array([18,  7, 10,  2, 18, 15])"
      ]
     },
     "execution_count": 25,
     "metadata": {},
     "output_type": "execute_result"
    }
   ],
   "source": [
    "np.random.randint(1, 20, 6)"
   ]
  },
  {
   "cell_type": "markdown",
   "id": "8e199330-0f71-452b-84e4-29551119797d",
   "metadata": {},
   "source": [
    "## 3.3 Numpy Operators"
   ]
  },
  {
   "cell_type": "code",
   "execution_count": 26,
   "id": "586c7088-8f18-4e76-8af4-1808c4e6c252",
   "metadata": {},
   "outputs": [],
   "source": [
    "import numpy as np"
   ]
  },
  {
   "cell_type": "code",
   "execution_count": 29,
   "id": "95d1a4a4-3f12-443a-9702-384d31e5d732",
   "metadata": {},
   "outputs": [],
   "source": [
    "Numbers_1 = np.arange(1, 10, 2)\n",
    "Numbers_Rand = np.random.randint(1, 20, 5)"
   ]
  },
  {
   "cell_type": "code",
   "execution_count": 30,
   "id": "52766947-b49f-49fd-bc36-347857e38df7",
   "metadata": {},
   "outputs": [
    {
     "data": {
      "text/plain": [
       "array([1, 3, 5, 7, 9])"
      ]
     },
     "execution_count": 30,
     "metadata": {},
     "output_type": "execute_result"
    }
   ],
   "source": [
    "Numbers_1"
   ]
  },
  {
   "cell_type": "code",
   "execution_count": 31,
   "id": "2725f2e3-7928-45e0-94ff-eb3033d7fefe",
   "metadata": {},
   "outputs": [
    {
     "data": {
      "text/plain": [
       "array([ 9, 11,  3,  5, 11])"
      ]
     },
     "execution_count": 31,
     "metadata": {},
     "output_type": "execute_result"
    }
   ],
   "source": [
    "Numbers_Rand"
   ]
  },
  {
   "cell_type": "code",
   "execution_count": 32,
   "id": "cdfc6fc1-8f25-4db0-82c9-558657b52971",
   "metadata": {},
   "outputs": [
    {
     "data": {
      "text/plain": [
       "array([10, 14,  8, 12, 20])"
      ]
     },
     "execution_count": 32,
     "metadata": {},
     "output_type": "execute_result"
    }
   ],
   "source": [
    "Numbers_1 + Numbers_Rand"
   ]
  },
  {
   "cell_type": "code",
   "execution_count": 33,
   "id": "1918ceee-046d-477e-81f0-4555b04bda25",
   "metadata": {},
   "outputs": [
    {
     "data": {
      "text/plain": [
       "array([ 9, 33, 15, 35, 99])"
      ]
     },
     "execution_count": 33,
     "metadata": {},
     "output_type": "execute_result"
    }
   ],
   "source": [
    "Numbers_1 * Numbers_Rand"
   ]
  },
  {
   "cell_type": "code",
   "execution_count": 34,
   "id": "1d40e8c2-4fb2-448e-acec-1f5cff4f9a3d",
   "metadata": {},
   "outputs": [
    {
     "data": {
      "text/plain": [
       "array([0.11111111, 0.27272727, 1.66666667, 1.4       , 0.81818182])"
      ]
     },
     "execution_count": 34,
     "metadata": {},
     "output_type": "execute_result"
    }
   ],
   "source": [
    "Numbers_1 / Numbers_Rand"
   ]
  },
  {
   "cell_type": "code",
   "execution_count": 35,
   "id": "c6853f6a-80ad-4e86-a36a-661b13e49fd1",
   "metadata": {},
   "outputs": [
    {
     "data": {
      "text/plain": [
       "array([0.25, 0.75, 1.25, 1.75, 2.25])"
      ]
     },
     "execution_count": 35,
     "metadata": {},
     "output_type": "execute_result"
    }
   ],
   "source": [
    "Numbers_1 / 4"
   ]
  },
  {
   "cell_type": "code",
   "execution_count": 36,
   "id": "e582170e-1dec-4440-aa3e-96e509e51f0a",
   "metadata": {},
   "outputs": [
    {
     "data": {
      "text/plain": [
       "array([1.        , 1.73205081, 2.23606798, 2.64575131, 3.        ])"
      ]
     },
     "execution_count": 36,
     "metadata": {},
     "output_type": "execute_result"
    }
   ],
   "source": [
    "np.sqrt(Numbers_1)"
   ]
  },
  {
   "cell_type": "code",
   "execution_count": 37,
   "id": "3dbc6116-6888-42a9-b031-679292efe166",
   "metadata": {},
   "outputs": [
    {
     "data": {
      "text/plain": [
       "array([3.        , 3.31662479, 1.73205081, 2.23606798, 3.31662479])"
      ]
     },
     "execution_count": 37,
     "metadata": {},
     "output_type": "execute_result"
    }
   ],
   "source": [
    "np.sqrt(Numbers_Rand)"
   ]
  },
  {
   "cell_type": "markdown",
   "id": "3a1a9a9d-d0ea-4fab-a17c-4f38dccf6d2f",
   "metadata": {},
   "source": [
    "## 3.4 Numpy Functions"
   ]
  },
  {
   "cell_type": "code",
   "execution_count": 38,
   "id": "bf1ceea2-5fec-4755-b592-c9dde581e85f",
   "metadata": {},
   "outputs": [],
   "source": [
    "import numpy as np"
   ]
  },
  {
   "cell_type": "code",
   "execution_count": 39,
   "id": "36cf6cd0-8946-4316-80d1-0a15cb7fc869",
   "metadata": {},
   "outputs": [],
   "source": [
    "Array_One = np.random.randint(1, 500, 15)"
   ]
  },
  {
   "cell_type": "code",
   "execution_count": 40,
   "id": "9daa0106-7b86-4a51-9642-5074fcbbf76a",
   "metadata": {},
   "outputs": [
    {
     "data": {
      "text/plain": [
       "array([175, 154, 215, 240,  32, 323, 254, 163, 446, 369, 306, 256, 362,\n",
       "        35,  31])"
      ]
     },
     "execution_count": 40,
     "metadata": {},
     "output_type": "execute_result"
    }
   ],
   "source": [
    "Array_One"
   ]
  },
  {
   "cell_type": "code",
   "execution_count": 41,
   "id": "043ee0cc-abcf-4bba-bfd1-3324ee1a5c97",
   "metadata": {},
   "outputs": [],
   "source": [
    "Array_Two = Array_One.reshape(3, 5)"
   ]
  },
  {
   "cell_type": "code",
   "execution_count": 42,
   "id": "c0fbd411-6abe-42b7-b384-6bf64e23b31e",
   "metadata": {},
   "outputs": [
    {
     "data": {
      "text/plain": [
       "array([[175, 154, 215, 240,  32],\n",
       "       [323, 254, 163, 446, 369],\n",
       "       [306, 256, 362,  35,  31]])"
      ]
     },
     "execution_count": 42,
     "metadata": {},
     "output_type": "execute_result"
    }
   ],
   "source": [
    "Array_Two"
   ]
  },
  {
   "cell_type": "code",
   "execution_count": 46,
   "id": "7b75f2dc-b502-4fd4-89cd-1a7254b89ebc",
   "metadata": {},
   "outputs": [],
   "source": [
    "Index_Value = np.argpartition(Array_One, -5)[-5:]"
   ]
  },
  {
   "cell_type": "code",
   "execution_count": 47,
   "id": "78248ac3-f247-44b7-81bb-0fa1501d805f",
   "metadata": {},
   "outputs": [
    {
     "data": {
      "text/plain": [
       "array([10,  5, 12,  8,  9])"
      ]
     },
     "execution_count": 47,
     "metadata": {},
     "output_type": "execute_result"
    }
   ],
   "source": [
    "Index_Value"
   ]
  },
  {
   "cell_type": "code",
   "execution_count": 48,
   "id": "47cecfa7-cab8-4e16-adcb-a08e78689522",
   "metadata": {},
   "outputs": [
    {
     "data": {
      "text/plain": [
       "array([306, 323, 362, 369, 446])"
      ]
     },
     "execution_count": 48,
     "metadata": {},
     "output_type": "execute_result"
    }
   ],
   "source": [
    "np.sort(Array_One[Index_Value])"
   ]
  },
  {
   "cell_type": "code",
   "execution_count": 51,
   "id": "ff29471d-5126-4f34-b61b-633873055f1f",
   "metadata": {},
   "outputs": [],
   "source": [
    "Index_Value_2 = np.argpartition(Array_Two, -5)[-5:]"
   ]
  },
  {
   "cell_type": "code",
   "execution_count": 52,
   "id": "0e2ac119-6a37-4f44-9614-e2b7ce3524d1",
   "metadata": {},
   "outputs": [
    {
     "data": {
      "text/plain": [
       "array([[4, 1, 2, 3, 0],\n",
       "       [2, 1, 0, 3, 4],\n",
       "       [4, 1, 2, 3, 0]])"
      ]
     },
     "execution_count": 52,
     "metadata": {},
     "output_type": "execute_result"
    }
   ],
   "source": [
    "Index_Value_2"
   ]
  },
  {
   "cell_type": "markdown",
   "id": "2e030484-59a1-4150-a97f-46e29c645454",
   "metadata": {},
   "source": [
    "## 3.5 Indexing and Slicing"
   ]
  },
  {
   "cell_type": "code",
   "execution_count": 54,
   "id": "6f445e86-28b3-4614-bbaa-185e19f9c4b1",
   "metadata": {},
   "outputs": [],
   "source": [
    "import numpy as np"
   ]
  },
  {
   "cell_type": "code",
   "execution_count": 55,
   "id": "49c60084-8b2a-43cb-9e48-dc12daa407aa",
   "metadata": {},
   "outputs": [],
   "source": [
    "N_Array_1 = np.random.randint(1, 30, 8)"
   ]
  },
  {
   "cell_type": "code",
   "execution_count": 56,
   "id": "72c2ecef-9601-442b-8f83-8a4d80d8734c",
   "metadata": {},
   "outputs": [
    {
     "data": {
      "text/plain": [
       "array([ 1, 11,  3, 12,  7, 10, 29, 16])"
      ]
     },
     "execution_count": 56,
     "metadata": {},
     "output_type": "execute_result"
    }
   ],
   "source": [
    "N_Array_1"
   ]
  },
  {
   "cell_type": "code",
   "execution_count": 57,
   "id": "95013fb2-13c2-463b-817d-cb12879ad24e",
   "metadata": {},
   "outputs": [
    {
     "data": {
      "text/plain": [
       "12"
      ]
     },
     "execution_count": 57,
     "metadata": {},
     "output_type": "execute_result"
    }
   ],
   "source": [
    "N_Array_1[3]"
   ]
  },
  {
   "cell_type": "code",
   "execution_count": 58,
   "id": "72746d77-e13c-4d43-8dcd-d860c84126c3",
   "metadata": {},
   "outputs": [
    {
     "data": {
      "text/plain": [
       "array([ 3, 12,  7, 10, 29])"
      ]
     },
     "execution_count": 58,
     "metadata": {},
     "output_type": "execute_result"
    }
   ],
   "source": [
    "N_Array_1[2:7]"
   ]
  },
  {
   "cell_type": "code",
   "execution_count": 59,
   "id": "a818e735-03ab-4bbe-8263-3c2bae5769cd",
   "metadata": {},
   "outputs": [
    {
     "data": {
      "text/plain": [
       "array([ 1, 11,  3, 12])"
      ]
     },
     "execution_count": 59,
     "metadata": {},
     "output_type": "execute_result"
    }
   ],
   "source": [
    "N_Array_1[:4]"
   ]
  },
  {
   "cell_type": "code",
   "execution_count": 60,
   "id": "761fbc21-73eb-4c80-ad2b-847d33d4b794",
   "metadata": {},
   "outputs": [],
   "source": [
    "N_Array_2 = np.arange(1, 7)"
   ]
  },
  {
   "cell_type": "code",
   "execution_count": 61,
   "id": "5dcbdfb9-8bb9-4ae5-984f-11c17d122628",
   "metadata": {},
   "outputs": [
    {
     "data": {
      "text/plain": [
       "array([1, 2, 3, 4, 5, 6])"
      ]
     },
     "execution_count": 61,
     "metadata": {},
     "output_type": "execute_result"
    }
   ],
   "source": [
    "N_Array_2"
   ]
  },
  {
   "cell_type": "code",
   "execution_count": 62,
   "id": "b975e395-ca07-43aa-9897-cd54b5d9776e",
   "metadata": {},
   "outputs": [],
   "source": [
    "N_Array_2[:3] = 7"
   ]
  },
  {
   "cell_type": "code",
   "execution_count": 63,
   "id": "d72622a0-4715-4630-8649-bc0cf1e01ac4",
   "metadata": {},
   "outputs": [
    {
     "data": {
      "text/plain": [
       "array([7, 7, 7, 4, 5, 6])"
      ]
     },
     "execution_count": 63,
     "metadata": {},
     "output_type": "execute_result"
    }
   ],
   "source": [
    "N_Array_2"
   ]
  },
  {
   "cell_type": "code",
   "execution_count": 64,
   "id": "0ece9d58-938c-442d-9aa4-59c3ba71d5ae",
   "metadata": {},
   "outputs": [],
   "source": [
    "N_Array_3 = np.random.randint(1, 100, 20)"
   ]
  },
  {
   "cell_type": "code",
   "execution_count": 65,
   "id": "b10d1d77-ffcc-4691-afd4-1381934a2f82",
   "metadata": {},
   "outputs": [
    {
     "data": {
      "text/plain": [
       "array([58, 62,  4,  6, 55, 58, 22, 78, 49, 94, 84,  6, 17,  9, 98, 72,  3,\n",
       "       10, 44, 42])"
      ]
     },
     "execution_count": 65,
     "metadata": {},
     "output_type": "execute_result"
    }
   ],
   "source": [
    "N_Array_3"
   ]
  },
  {
   "cell_type": "code",
   "execution_count": 67,
   "id": "25c4520d-12d9-4f5d-b8cf-2183cad1a7e0",
   "metadata": {},
   "outputs": [],
   "source": [
    "N_Array_3 = N_Array_3.reshape(5, 4)"
   ]
  },
  {
   "cell_type": "code",
   "execution_count": 68,
   "id": "11e60e73-e802-497d-92d9-0800011ccfae",
   "metadata": {},
   "outputs": [
    {
     "data": {
      "text/plain": [
       "array([[58, 62,  4,  6],\n",
       "       [55, 58, 22, 78],\n",
       "       [49, 94, 84,  6],\n",
       "       [17,  9, 98, 72],\n",
       "       [ 3, 10, 44, 42]])"
      ]
     },
     "execution_count": 68,
     "metadata": {},
     "output_type": "execute_result"
    }
   ],
   "source": [
    "N_Array_3"
   ]
  },
  {
   "cell_type": "code",
   "execution_count": 69,
   "id": "6a2c269d-0d48-4588-ae3c-8cb45a4b18a2",
   "metadata": {},
   "outputs": [
    {
     "data": {
      "text/plain": [
       "array([ 3, 10, 44, 42])"
      ]
     },
     "execution_count": 69,
     "metadata": {},
     "output_type": "execute_result"
    }
   ],
   "source": [
    "N_Array_3[4]"
   ]
  },
  {
   "cell_type": "code",
   "execution_count": 70,
   "id": "94afab82-a226-4f7b-9dba-42761988c13c",
   "metadata": {},
   "outputs": [
    {
     "data": {
      "text/plain": [
       "17"
      ]
     },
     "execution_count": 70,
     "metadata": {},
     "output_type": "execute_result"
    }
   ],
   "source": [
    "N_Array_3[3, 0]"
   ]
  },
  {
   "cell_type": "code",
   "execution_count": 71,
   "id": "bda4ac9f-1860-4e96-96cb-876cf356a333",
   "metadata": {},
   "outputs": [
    {
     "data": {
      "text/plain": [
       "array([[58, 62,  4,  6],\n",
       "       [55, 58, 22, 78]])"
      ]
     },
     "execution_count": 71,
     "metadata": {},
     "output_type": "execute_result"
    }
   ],
   "source": [
    "N_Array_3[:2]"
   ]
  },
  {
   "cell_type": "code",
   "execution_count": null,
   "id": "2fe76eb7-b831-4255-9f90-c3f5e65cf289",
   "metadata": {},
   "outputs": [
    {
     "data": {
      "text/plain": [
       "array([[ 4,  6],\n",
       "       [22, 78],\n",
       "       [84,  6],\n",
       "       [98, 72],\n",
       "       [44, 42]])"
      ]
     },
     "execution_count": 72,
     "metadata": {},
     "output_type": "execute_result"
    }
   ],
   "source": [
    "N_Array_3[:,2:4]"
   ]
  },
  {
   "cell_type": "code",
   "execution_count": 73,
   "id": "c0487703-d941-4b58-9695-0cecf2dd13cc",
   "metadata": {},
   "outputs": [],
   "source": [
    "N_Array_4 = np.arange(1, 7)"
   ]
  },
  {
   "cell_type": "code",
   "execution_count": 74,
   "id": "817a6dd8-8425-4969-af60-c5db21608aef",
   "metadata": {},
   "outputs": [
    {
     "data": {
      "text/plain": [
       "array([1, 2, 3, 4, 5, 6])"
      ]
     },
     "execution_count": 74,
     "metadata": {},
     "output_type": "execute_result"
    }
   ],
   "source": [
    "N_Array_4"
   ]
  },
  {
   "cell_type": "code",
   "execution_count": 76,
   "id": "1f027c73-4da2-4630-ab70-c1ee49fe1ac2",
   "metadata": {},
   "outputs": [],
   "source": [
    "N_Array_4_SC = N_Array_4.view()"
   ]
  },
  {
   "cell_type": "code",
   "execution_count": 77,
   "id": "c8c1df8d-4cae-42fb-9826-b9c520cd2acc",
   "metadata": {},
   "outputs": [
    {
     "data": {
      "text/plain": [
       "array([1, 2, 3, 4, 5, 6])"
      ]
     },
     "execution_count": 77,
     "metadata": {},
     "output_type": "execute_result"
    }
   ],
   "source": [
    "N_Array_4_SC"
   ]
  },
  {
   "cell_type": "code",
   "execution_count": 78,
   "id": "9fda2efe-53cd-4691-a932-b903d5cad4d8",
   "metadata": {},
   "outputs": [],
   "source": [
    "N_Array_4[3] *= 8"
   ]
  },
  {
   "cell_type": "code",
   "execution_count": 79,
   "id": "cc035be7-a448-4767-b27d-268f4c575710",
   "metadata": {},
   "outputs": [
    {
     "data": {
      "text/plain": [
       "array([ 1,  2,  3, 32,  5,  6])"
      ]
     },
     "execution_count": 79,
     "metadata": {},
     "output_type": "execute_result"
    }
   ],
   "source": [
    "N_Array_4"
   ]
  },
  {
   "cell_type": "code",
   "execution_count": 80,
   "id": "c0a568b6-2968-4212-bc40-f115a32d7b8e",
   "metadata": {},
   "outputs": [],
   "source": [
    "N_Array_4_CP = N_Array_4.copy()"
   ]
  },
  {
   "cell_type": "code",
   "execution_count": 81,
   "id": "c2087e0e-cae4-4e87-90cb-7e1d283d1cde",
   "metadata": {},
   "outputs": [
    {
     "data": {
      "text/plain": [
       "array([ 1,  2,  3, 32,  5,  6])"
      ]
     },
     "execution_count": 81,
     "metadata": {},
     "output_type": "execute_result"
    }
   ],
   "source": [
    "N_Array_4_CP"
   ]
  },
  {
   "cell_type": "markdown",
   "id": "a15606a2-9551-4f24-88d9-a55c0dbcab6a",
   "metadata": {},
   "source": [
    "## 3.6 Numpy Exercises"
   ]
  },
  {
   "cell_type": "code",
   "execution_count": 82,
   "id": "50c7fa1d-9976-4077-8e05-c13a97d77392",
   "metadata": {},
   "outputs": [],
   "source": [
    "import numpy as np"
   ]
  },
  {
   "cell_type": "code",
   "execution_count": 83,
   "id": "a18f74ba-0d1d-4ce3-83ba-9aad23c72081",
   "metadata": {},
   "outputs": [],
   "source": [
    "Array_R_1 = np.random.randint(1, 150, 20)"
   ]
  },
  {
   "cell_type": "code",
   "execution_count": 84,
   "id": "10757b0c-4ffb-4e49-88b5-40163e949347",
   "metadata": {},
   "outputs": [
    {
     "data": {
      "text/plain": [
       "array([ 29, 119,  12,  86, 133,  12, 132, 102, 110,  75,  58,  40,  49,\n",
       "       104,   1,  12, 121, 110, 124,  97])"
      ]
     },
     "execution_count": 84,
     "metadata": {},
     "output_type": "execute_result"
    }
   ],
   "source": [
    "Array_R_1"
   ]
  },
  {
   "cell_type": "code",
   "execution_count": 85,
   "id": "4edb35e9-52d2-425b-86d6-3db7c0553181",
   "metadata": {},
   "outputs": [
    {
     "data": {
      "text/plain": [
       "1526"
      ]
     },
     "execution_count": 85,
     "metadata": {},
     "output_type": "execute_result"
    }
   ],
   "source": [
    "Array_R_1.sum()  # 求和"
   ]
  },
  {
   "cell_type": "code",
   "execution_count": 86,
   "id": "a3f98a56-b939-4427-9802-3b8f3ae6b1b4",
   "metadata": {},
   "outputs": [
    {
     "data": {
      "text/plain": [
       "133"
      ]
     },
     "execution_count": 86,
     "metadata": {},
     "output_type": "execute_result"
    }
   ],
   "source": [
    "Array_R_1.max()  # 求出最大值"
   ]
  },
  {
   "cell_type": "code",
   "execution_count": 87,
   "id": "a8cb4655-afb6-4934-bb9c-90ec80a0ff32",
   "metadata": {},
   "outputs": [
    {
     "data": {
      "text/plain": [
       "1"
      ]
     },
     "execution_count": 87,
     "metadata": {},
     "output_type": "execute_result"
    }
   ],
   "source": [
    "Array_R_1.min()  # 求最小值"
   ]
  },
  {
   "cell_type": "code",
   "execution_count": 88,
   "id": "3630d908-85b7-4c00-8bb6-454d716c78ff",
   "metadata": {},
   "outputs": [
    {
     "data": {
      "text/plain": [
       "76.3"
      ]
     },
     "execution_count": 88,
     "metadata": {},
     "output_type": "execute_result"
    }
   ],
   "source": [
    "Array_R_1.mean()  # 求取平均值"
   ]
  },
  {
   "cell_type": "code",
   "execution_count": 89,
   "id": "6f76d1a5-2d41-4f6e-9009-646dfa207c7f",
   "metadata": {},
   "outputs": [],
   "source": [
    "Array_2 = np.arange(1, 60, 3)"
   ]
  },
  {
   "cell_type": "code",
   "execution_count": 90,
   "id": "c7a26f7c-a43e-4319-8ded-ec52828a2dee",
   "metadata": {},
   "outputs": [
    {
     "data": {
      "text/plain": [
       "array([ 1,  4,  7, 10, 13, 16, 19, 22, 25, 28, 31, 34, 37, 40, 43, 46, 49,\n",
       "       52, 55, 58])"
      ]
     },
     "execution_count": 90,
     "metadata": {},
     "output_type": "execute_result"
    }
   ],
   "source": [
    "Array_2"
   ]
  },
  {
   "cell_type": "code",
   "execution_count": 92,
   "id": "8419df1f-e4e3-49c3-a0b5-a539bb5af7d3",
   "metadata": {},
   "outputs": [
    {
     "data": {
      "text/plain": [
       "array([ 30, 123,  19,  96, 146,  28, 151, 124, 135, 103,  89,  74,  86,\n",
       "       144,  44,  58, 170, 162, 179, 155])"
      ]
     },
     "execution_count": 92,
     "metadata": {},
     "output_type": "execute_result"
    }
   ],
   "source": [
    "Array_2 + Array_R_1"
   ]
  },
  {
   "cell_type": "code",
   "execution_count": 96,
   "id": "c43b826b-29c9-4029-9a8f-5baae043264f",
   "metadata": {},
   "outputs": [],
   "source": [
    "R_Element = Array_R_1[np.random.randint(1, 21, 1)]"
   ]
  },
  {
   "cell_type": "code",
   "execution_count": 97,
   "id": "0d92ac96-48b1-4076-8560-3b862687f26a",
   "metadata": {},
   "outputs": [
    {
     "data": {
      "text/plain": [
       "array([12])"
      ]
     },
     "execution_count": 97,
     "metadata": {},
     "output_type": "execute_result"
    }
   ],
   "source": [
    "R_Element"
   ]
  },
  {
   "cell_type": "code",
   "execution_count": 98,
   "id": "18cfcabc-5c6d-42dc-aaad-0d20d9376995",
   "metadata": {},
   "outputs": [],
   "source": [
    "Index_Value = np.where(Array_R_1 == R_Element)"
   ]
  },
  {
   "cell_type": "code",
   "execution_count": 99,
   "id": "3549b24f-af62-4275-a635-4025ad530686",
   "metadata": {},
   "outputs": [
    {
     "data": {
      "text/plain": [
       "(array([ 2,  5, 15]),)"
      ]
     },
     "execution_count": 99,
     "metadata": {},
     "output_type": "execute_result"
    }
   ],
   "source": [
    "Index_Value"
   ]
  },
  {
   "cell_type": "code",
   "execution_count": 100,
   "id": "dd4747ac-b95c-4ec0-b9f2-6a81ed819e84",
   "metadata": {},
   "outputs": [],
   "source": [
    "Array_R_2 = Array_R_1.reshape(4, 5)"
   ]
  },
  {
   "cell_type": "code",
   "execution_count": 101,
   "id": "16b0451f-88e5-4258-a976-7d8772b572e1",
   "metadata": {},
   "outputs": [
    {
     "data": {
      "text/plain": [
       "array([[ 29, 119,  12,  86, 133],\n",
       "       [ 12, 132, 102, 110,  75],\n",
       "       [ 58,  40,  49, 104,   1],\n",
       "       [ 12, 121, 110, 124,  97]])"
      ]
     },
     "execution_count": 101,
     "metadata": {},
     "output_type": "execute_result"
    }
   ],
   "source": [
    "Array_R_2"
   ]
  },
  {
   "cell_type": "code",
   "execution_count": 102,
   "id": "a1aaf2a5-f253-4eed-9b42-88380be9f839",
   "metadata": {},
   "outputs": [
    {
     "data": {
      "text/plain": [
       "array([[119, 133],\n",
       "       [132,  75],\n",
       "       [ 40,   1],\n",
       "       [121,  97]])"
      ]
     },
     "execution_count": 102,
     "metadata": {},
     "output_type": "execute_result"
    }
   ],
   "source": [
    "Array_R_2[:, (1, 4)]"
   ]
  },
  {
   "cell_type": "code",
   "execution_count": 103,
   "id": "dd307262-2af8-435e-8a9e-4f706cae3736",
   "metadata": {},
   "outputs": [],
   "source": [
    "Array_R_B = np.pad(Array_R_2, pad_width =1, mode = \"constant\", constant_values = 0)"
   ]
  },
  {
   "cell_type": "code",
   "execution_count": 104,
   "id": "3828f4a9-c7c9-473a-af99-8c1fce6b21be",
   "metadata": {},
   "outputs": [
    {
     "name": "stdout",
     "output_type": "stream",
     "text": [
      "[[  0   0   0   0   0   0   0]\n",
      " [  0  29 119  12  86 133   0]\n",
      " [  0  12 132 102 110  75   0]\n",
      " [  0  58  40  49 104   1   0]\n",
      " [  0  12 121 110 124  97   0]\n",
      " [  0   0   0   0   0   0   0]]\n"
     ]
    }
   ],
   "source": [
    "print(Array_R_B)"
   ]
  },
  {
   "cell_type": "code",
   "execution_count": 105,
   "id": "7ea01eba-f5fa-4e29-8c03-cf99f3ed85a3",
   "metadata": {},
   "outputs": [],
   "source": [
    "Array_R_3 = np.random.randint(1, 100, 30)"
   ]
  },
  {
   "cell_type": "code",
   "execution_count": 107,
   "id": "471783a1-9354-4f61-92d1-3be6b1ad739d",
   "metadata": {},
   "outputs": [],
   "source": [
    "Array_R_3 = Array_R_3.reshape(6, 5)"
   ]
  },
  {
   "cell_type": "code",
   "execution_count": 108,
   "id": "8dd6184d-c754-4799-8cb4-6e41f231d5f8",
   "metadata": {},
   "outputs": [
    {
     "data": {
      "text/plain": [
       "array([[51, 53,  8, 72,  5],\n",
       "       [64, 49, 25, 60, 64],\n",
       "       [57, 45, 92, 76, 51],\n",
       "       [ 6, 93, 72, 18, 21],\n",
       "       [31, 70, 82, 67, 85],\n",
       "       [23, 53, 51, 83, 65]])"
      ]
     },
     "execution_count": 108,
     "metadata": {},
     "output_type": "execute_result"
    }
   ],
   "source": [
    "Array_R_3"
   ]
  },
  {
   "cell_type": "code",
   "execution_count": 111,
   "id": "b91ff69f-f4e1-4529-a5c5-7b6cc1202d0d",
   "metadata": {},
   "outputs": [],
   "source": [
    "np.put(Array_R_3, np.random.choice(range(5, 6), replace = False), 1)"
   ]
  },
  {
   "cell_type": "code",
   "execution_count": 112,
   "id": "715ecab2-a6c1-49e9-a200-53062488630d",
   "metadata": {},
   "outputs": [
    {
     "data": {
      "text/plain": [
       "array([[51, 53,  8, 72,  5],\n",
       "       [ 1, 49, 25, 60, 64],\n",
       "       [57, 45, 92, 76, 51],\n",
       "       [ 6, 93, 72, 18, 21],\n",
       "       [31, 70, 82, 67, 85],\n",
       "       [23, 53, 51, 83, 65]])"
      ]
     },
     "execution_count": 112,
     "metadata": {},
     "output_type": "execute_result"
    }
   ],
   "source": [
    "Array_R_3"
   ]
  },
  {
   "cell_type": "markdown",
   "id": "898e3139-a784-47f7-b218-2792a3b89df8",
   "metadata": {},
   "source": [
    "## 3.7 Numpy in Linear Algebra"
   ]
  },
  {
   "cell_type": "code",
   "execution_count": null,
   "id": "82ba35b4-0cca-4aff-abd9-01d244f7e939",
   "metadata": {},
   "outputs": [],
   "source": []
  }
 ],
 "metadata": {
  "kernelspec": {
   "display_name": "Python 3 (ipykernel)",
   "language": "python",
   "name": "python3"
  },
  "language_info": {
   "codemirror_mode": {
    "name": "ipython",
    "version": 3
   },
   "file_extension": ".py",
   "mimetype": "text/x-python",
   "name": "python",
   "nbconvert_exporter": "python",
   "pygments_lexer": "ipython3",
   "version": "3.10.4"
  }
 },
 "nbformat": 4,
 "nbformat_minor": 5
}
