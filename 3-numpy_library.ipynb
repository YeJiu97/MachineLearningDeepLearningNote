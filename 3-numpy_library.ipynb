{
 "cells": [
  {
   "cell_type": "markdown",
   "id": "fa2f0597-44ef-4c61-a5c4-0f100afa6b71",
   "metadata": {},
   "source": [
    "## 3.1 What is Numpy"
   ]
  },
  {
   "cell_type": "markdown",
   "id": "834e7459-0a97-4cae-a74b-b340d2454a88",
   "metadata": {},
   "source": [
    "Numpy是一个包含多维数组的数学库：\n",
    "\n",
    "安装Numpy：\n",
    "```\n",
    "pip3 install numpy\n",
    "```"
   ]
  },
  {
   "cell_type": "code",
   "execution_count": 1,
   "id": "a42d9fb7-039a-45c5-81e6-877e8978b7fc",
   "metadata": {},
   "outputs": [],
   "source": [
    "import numpy as np"
   ]
  },
  {
   "cell_type": "code",
   "execution_count": 5,
   "id": "a826ee84-45ea-41dc-992c-8305c48ed909",
   "metadata": {},
   "outputs": [],
   "source": [
    "N_Array = np.array([[1, 2, 3], [4, 5, 6], [7, 8, 9]])"
   ]
  },
  {
   "cell_type": "code",
   "execution_count": 6,
   "id": "8cc1fdc6-8b12-4166-8a89-bb3f8c2f32e8",
   "metadata": {},
   "outputs": [
    {
     "data": {
      "text/plain": [
       "array([[1, 2, 3],\n",
       "       [4, 5, 6],\n",
       "       [7, 8, 9]])"
      ]
     },
     "execution_count": 6,
     "metadata": {},
     "output_type": "execute_result"
    }
   ],
   "source": [
    "N_Array"
   ]
  },
  {
   "cell_type": "code",
   "execution_count": 7,
   "id": "6a467895-7bd4-49cd-8762-710e7954201e",
   "metadata": {},
   "outputs": [
    {
     "data": {
      "text/plain": [
       "numpy.ndarray"
      ]
     },
     "execution_count": 7,
     "metadata": {},
     "output_type": "execute_result"
    }
   ],
   "source": [
    "type(N_Array)"
   ]
  },
  {
   "cell_type": "code",
   "execution_count": 8,
   "id": "b793c529-d557-41c2-ab7f-73890e9af1a3",
   "metadata": {},
   "outputs": [
    {
     "data": {
      "text/plain": [
       "5"
      ]
     },
     "execution_count": 8,
     "metadata": {},
     "output_type": "execute_result"
    }
   ],
   "source": [
    "N_Array[1][1]"
   ]
  },
  {
   "cell_type": "code",
   "execution_count": 10,
   "id": "6a5ff184-53fe-4091-aed2-3c5574ad320a",
   "metadata": {},
   "outputs": [
    {
     "data": {
      "text/plain": [
       "1"
      ]
     },
     "execution_count": 10,
     "metadata": {},
     "output_type": "execute_result"
    }
   ],
   "source": [
    "N_Array[0][0]"
   ]
  },
  {
   "cell_type": "code",
   "execution_count": 12,
   "id": "a31f6674-dd73-4a78-8f83-cae67d5eb4c1",
   "metadata": {},
   "outputs": [
    {
     "name": "stdout",
     "output_type": "stream",
     "text": [
      "1\n",
      "2\n",
      "3\n",
      "4\n",
      "5\n",
      "6\n",
      "7\n",
      "8\n",
      "9\n"
     ]
    }
   ],
   "source": [
    "for nums in N_Array:\n",
    "    for num in nums:\n",
    "        print(num)"
   ]
  }
 ],
 "metadata": {
  "kernelspec": {
   "display_name": "Python 3 (ipykernel)",
   "language": "python",
   "name": "python3"
  },
  "language_info": {
   "codemirror_mode": {
    "name": "ipython",
    "version": 3
   },
   "file_extension": ".py",
   "mimetype": "text/x-python",
   "name": "python",
   "nbconvert_exporter": "python",
   "pygments_lexer": "ipython3",
   "version": "3.10.4"
  }
 },
 "nbformat": 4,
 "nbformat_minor": 5
}
